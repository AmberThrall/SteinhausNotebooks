{
 "cells": [
  {
   "cell_type": "markdown",
   "metadata": {},
   "source": [
    "# Stable Paths - Recommendation Systems\n",
    "\n",
    "We construct a Steinhaus Mapper filtration on the MovieLens-20M dataset. We then investigate stable paths in the graph to find the \"smoothest\" transition between two movies."
   ]
  },
  {
   "cell_type": "code",
   "execution_count": 1,
   "metadata": {},
   "outputs": [],
   "source": [
    "%load_ext autoreload\n",
    "%autoreload 2"
   ]
  },
  {
   "cell_type": "code",
   "execution_count": 9,
   "metadata": {},
   "outputs": [],
   "source": [
    "# Relative path to the MovieLens-20M dataset.\n",
    "path_to_ml_20m = \"./data/ml-20m/\""
   ]
  },
  {
   "cell_type": "code",
   "execution_count": 3,
   "metadata": {},
   "outputs": [],
   "source": [
    "import os\n",
    "import pandas as pd\n",
    "import numpy as np\n",
    "import networkx as nx\n",
    "import scipy.stats\n",
    "import matplotlib.pyplot as plt\n",
    "import matplotlib\n",
    "import seaborn as sns\n",
    "import itertools\n",
    "import time\n",
    "import umap\n",
    "import paths"
   ]
  },
  {
   "cell_type": "markdown",
   "metadata": {},
   "source": [
    "# Steinhaus Filtration Class\n",
    "\n",
    "The `Cover` class constructs the Steinhaus filtration (under Jaccard measure) given a set of covers."
   ]
  },
  {
   "cell_type": "code",
   "execution_count": 18,
   "metadata": {},
   "outputs": [],
   "source": [
    "class BaseFiltration:\n",
    "    def __init__(self, max_dim=3):\n",
    "        self.max_dim = max_dim\n",
    "        \n",
    "        \n",
    "class Cover(BaseFiltration):\n",
    "    def build(self, covers):\n",
    "        # Give each cover element a name.\n",
    "        if not isinstance(covers, dict):\n",
    "            covers = dict(enumerate(covers))\n",
    "\n",
    "        simplices = [([k], 0.0) for k in covers.keys()]\n",
    "\n",
    "        #Changed self.max_dim+1 to self.max_dim+2. Correct?\n",
    "        for k in range(2, self.max_dim + 2):\n",
    "            for potentials in itertools.combinations(covers.keys(), k):\n",
    "                potential_sets = [covers[p] for p in potentials]\n",
    "\n",
    "                d = self.jaccard(potential_sets)\n",
    "\n",
    "                if d < 1:\n",
    "                    simplices.append((potentials, d))\n",
    "\n",
    "        return simplices\n",
    "\n",
    "    def jaccard(self, covers):\n",
    "        covers_as_sets = list(map(set, covers))\n",
    "        intersection = set.intersection(*covers_as_sets)\n",
    "        union = set.union(*covers_as_sets)\n",
    "\n",
    "        return 1 - len(intersection) / len(union)\n",
    "\n",
    "\n",
    "__all__ = ['Cover']\n",
    "\n",
    "%matplotlib inline\n",
    "\n",
    "pd.options.display.max_rows = 8"
   ]
  },
  {
   "cell_type": "markdown",
   "metadata": {},
   "source": [
    "# Load the ratings and movie datasets"
   ]
  },
  {
   "cell_type": "code",
   "execution_count": 17,
   "metadata": {},
   "outputs": [
    {
     "data": {
      "text/html": [
       "<div>\n",
       "<style scoped>\n",
       "    .dataframe tbody tr th:only-of-type {\n",
       "        vertical-align: middle;\n",
       "    }\n",
       "\n",
       "    .dataframe tbody tr th {\n",
       "        vertical-align: top;\n",
       "    }\n",
       "\n",
       "    .dataframe thead th {\n",
       "        text-align: right;\n",
       "    }\n",
       "</style>\n",
       "<table border=\"1\" class=\"dataframe\">\n",
       "  <thead>\n",
       "    <tr style=\"text-align: right;\">\n",
       "      <th></th>\n",
       "      <th>userId</th>\n",
       "      <th>movieId</th>\n",
       "      <th>rating</th>\n",
       "    </tr>\n",
       "  </thead>\n",
       "  <tbody>\n",
       "    <tr>\n",
       "      <th>0</th>\n",
       "      <td>1</td>\n",
       "      <td>2</td>\n",
       "      <td>3.5</td>\n",
       "    </tr>\n",
       "    <tr>\n",
       "      <th>1</th>\n",
       "      <td>1</td>\n",
       "      <td>29</td>\n",
       "      <td>3.5</td>\n",
       "    </tr>\n",
       "    <tr>\n",
       "      <th>2</th>\n",
       "      <td>1</td>\n",
       "      <td>32</td>\n",
       "      <td>3.5</td>\n",
       "    </tr>\n",
       "    <tr>\n",
       "      <th>3</th>\n",
       "      <td>1</td>\n",
       "      <td>47</td>\n",
       "      <td>3.5</td>\n",
       "    </tr>\n",
       "    <tr>\n",
       "      <th>...</th>\n",
       "      <td>...</td>\n",
       "      <td>...</td>\n",
       "      <td>...</td>\n",
       "    </tr>\n",
       "    <tr>\n",
       "      <th>20000257</th>\n",
       "      <td>138493</td>\n",
       "      <td>68319</td>\n",
       "      <td>4.5</td>\n",
       "    </tr>\n",
       "    <tr>\n",
       "      <th>20000258</th>\n",
       "      <td>138493</td>\n",
       "      <td>68954</td>\n",
       "      <td>4.5</td>\n",
       "    </tr>\n",
       "    <tr>\n",
       "      <th>20000259</th>\n",
       "      <td>138493</td>\n",
       "      <td>69526</td>\n",
       "      <td>4.5</td>\n",
       "    </tr>\n",
       "    <tr>\n",
       "      <th>20000261</th>\n",
       "      <td>138493</td>\n",
       "      <td>70286</td>\n",
       "      <td>5.0</td>\n",
       "    </tr>\n",
       "  </tbody>\n",
       "</table>\n",
       "<p>12195566 rows × 3 columns</p>\n",
       "</div>"
      ],
      "text/plain": [
       "          userId  movieId  rating\n",
       "0              1        2     3.5\n",
       "1              1       29     3.5\n",
       "2              1       32     3.5\n",
       "3              1       47     3.5\n",
       "...          ...      ...     ...\n",
       "20000257  138493    68319     4.5\n",
       "20000258  138493    68954     4.5\n",
       "20000259  138493    69526     4.5\n",
       "20000261  138493    70286     5.0\n",
       "\n",
       "[12195566 rows x 3 columns]"
      ]
     },
     "execution_count": 17,
     "metadata": {},
     "output_type": "execute_result"
    }
   ],
   "source": [
    "ratings = pd.read_csv(os.path.join(path_to_ml_20m, \"ratings.csv\"), delimiter=\",\")\\\n",
    "            .drop(columns=['timestamp'])\n",
    "ratings = ratings.loc[ratings['rating']>= 3.5]\n",
    "ratings"
   ]
  },
  {
   "cell_type": "code",
   "execution_count": 10,
   "metadata": {},
   "outputs": [
    {
     "data": {
      "text/html": [
       "<div>\n",
       "<style scoped>\n",
       "    .dataframe tbody tr th:only-of-type {\n",
       "        vertical-align: middle;\n",
       "    }\n",
       "\n",
       "    .dataframe tbody tr th {\n",
       "        vertical-align: top;\n",
       "    }\n",
       "\n",
       "    .dataframe thead th {\n",
       "        text-align: right;\n",
       "    }\n",
       "</style>\n",
       "<table border=\"1\" class=\"dataframe\">\n",
       "  <thead>\n",
       "    <tr style=\"text-align: right;\">\n",
       "      <th></th>\n",
       "      <th>movieId</th>\n",
       "      <th>title</th>\n",
       "      <th>genres</th>\n",
       "    </tr>\n",
       "  </thead>\n",
       "  <tbody>\n",
       "    <tr>\n",
       "      <th>0</th>\n",
       "      <td>1</td>\n",
       "      <td>Toy Story (1995)</td>\n",
       "      <td>Adventure|Animation|Children|Comedy|Fantasy</td>\n",
       "    </tr>\n",
       "    <tr>\n",
       "      <th>1</th>\n",
       "      <td>2</td>\n",
       "      <td>Jumanji (1995)</td>\n",
       "      <td>Adventure|Children|Fantasy</td>\n",
       "    </tr>\n",
       "    <tr>\n",
       "      <th>2</th>\n",
       "      <td>3</td>\n",
       "      <td>Grumpier Old Men (1995)</td>\n",
       "      <td>Comedy|Romance</td>\n",
       "    </tr>\n",
       "    <tr>\n",
       "      <th>3</th>\n",
       "      <td>4</td>\n",
       "      <td>Waiting to Exhale (1995)</td>\n",
       "      <td>Comedy|Drama|Romance</td>\n",
       "    </tr>\n",
       "    <tr>\n",
       "      <th>...</th>\n",
       "      <td>...</td>\n",
       "      <td>...</td>\n",
       "      <td>...</td>\n",
       "    </tr>\n",
       "    <tr>\n",
       "      <th>27274</th>\n",
       "      <td>131256</td>\n",
       "      <td>Feuer, Eis &amp; Dosenbier (2002)</td>\n",
       "      <td>Comedy</td>\n",
       "    </tr>\n",
       "    <tr>\n",
       "      <th>27275</th>\n",
       "      <td>131258</td>\n",
       "      <td>The Pirates (2014)</td>\n",
       "      <td>Adventure</td>\n",
       "    </tr>\n",
       "    <tr>\n",
       "      <th>27276</th>\n",
       "      <td>131260</td>\n",
       "      <td>Rentun Ruusu (2001)</td>\n",
       "      <td>(no genres listed)</td>\n",
       "    </tr>\n",
       "    <tr>\n",
       "      <th>27277</th>\n",
       "      <td>131262</td>\n",
       "      <td>Innocence (2014)</td>\n",
       "      <td>Adventure|Fantasy|Horror</td>\n",
       "    </tr>\n",
       "  </tbody>\n",
       "</table>\n",
       "<p>27278 rows × 3 columns</p>\n",
       "</div>"
      ],
      "text/plain": [
       "       movieId                          title  \\\n",
       "0            1               Toy Story (1995)   \n",
       "1            2                 Jumanji (1995)   \n",
       "2            3        Grumpier Old Men (1995)   \n",
       "3            4       Waiting to Exhale (1995)   \n",
       "...        ...                            ...   \n",
       "27274   131256  Feuer, Eis & Dosenbier (2002)   \n",
       "27275   131258             The Pirates (2014)   \n",
       "27276   131260            Rentun Ruusu (2001)   \n",
       "27277   131262               Innocence (2014)   \n",
       "\n",
       "                                            genres  \n",
       "0      Adventure|Animation|Children|Comedy|Fantasy  \n",
       "1                       Adventure|Children|Fantasy  \n",
       "2                                   Comedy|Romance  \n",
       "3                             Comedy|Drama|Romance  \n",
       "...                                            ...  \n",
       "27274                                       Comedy  \n",
       "27275                                    Adventure  \n",
       "27276                           (no genres listed)  \n",
       "27277                     Adventure|Fantasy|Horror  \n",
       "\n",
       "[27278 rows x 3 columns]"
      ]
     },
     "execution_count": 10,
     "metadata": {},
     "output_type": "execute_result"
    }
   ],
   "source": [
    "movie_info = pd.read_csv(os.path.join(path_to_ml_20m, \"movies.csv\"), delimiter=\",\")\n",
    "movie_info"
   ]
  },
  {
   "cell_type": "code",
   "execution_count": 19,
   "metadata": {},
   "outputs": [],
   "source": [
    "# Helper fumction for looking up a movie's index based on title.\n",
    "def lookup_movie(title):\n",
    "    return movie_info.loc[movie_info.title.str.contains(title)][\"movieId\"].to_list()[0]"
   ]
  },
  {
   "cell_type": "markdown",
   "metadata": {},
   "source": [
    "# Construct the Pullback\n",
    "\n",
    "Construct the `movies_map` representing the pullback of $\\textup{rating}\\mapsto\\textup{movie}$."
   ]
  },
  {
   "cell_type": "code",
   "execution_count": 20,
   "metadata": {},
   "outputs": [],
   "source": [
    "movies = ratings.groupby('movieId')\n",
    "movies_map = {name: list(group.userId) for name, group in movies}"
   ]
  },
  {
   "cell_type": "markdown",
   "metadata": {},
   "source": [
    "Remove all movies with less than 10 ratings."
   ]
  },
  {
   "cell_type": "code",
   "execution_count": 21,
   "metadata": {},
   "outputs": [],
   "source": [
    "slim_movies_map = {name: ls for name, ls in movies_map.items() if len(ls) >= 10}"
   ]
  },
  {
   "cell_type": "markdown",
   "metadata": {},
   "source": [
    "Construct an even smaller sample of movies by randomly sampling making sure to include a specific set of movies."
   ]
  },
  {
   "cell_type": "code",
   "execution_count": 39,
   "metadata": {},
   "outputs": [],
   "source": [
    "transformers = 53996\n",
    "notebook = 8533\n",
    "princess = 1197\n",
    "darko = 4878\n",
    "chainsaw = 6880\n",
    "mulan = 1907\n",
    "rouge = 4308\n",
    "\n",
    "good_movies = [transformers, notebook, princess, darko, chainsaw, mulan, rouge]\n",
    "np.random.seed(1)\n",
    "\n",
    "rate = 200. / len(movies_map)\n",
    "slimer_movies_map = {name: ls for name, ls in movies_map.items() \n",
    "                     if np.random.random() <= rate or name in good_movies}"
   ]
  },
  {
   "cell_type": "code",
   "execution_count": 13,
   "metadata": {},
   "outputs": [],
   "source": [
    "for m in good_movies:\n",
    "    assert m in slimer_movies_map.keys()"
   ]
  },
  {
   "cell_type": "markdown",
   "metadata": {},
   "source": [
    "# Construct Steinhaus Filtration\n",
    "\n",
    "We construct a networkx graph repesenting the Mapper graphs and assign weights giveen by the Steinhaus filtration."
   ]
  },
  {
   "cell_type": "code",
   "execution_count": 24,
   "metadata": {},
   "outputs": [],
   "source": [
    "def thresh_filt(filtration, thresh):\n",
    "    filtration = [f for f in filtration if f[1] < thresh]\n",
    "    return filtration\n",
    "    \n",
    "def build_graph(filtration, thresh=None):\n",
    "    \"\"\" Build a networkx graph out of the 1-skeleton in the filtration\n",
    "    \"\"\"\n",
    "    if thresh:\n",
    "        filtration = thresh_filt(filtration, thresh)\n",
    "    \n",
    "    vertices = [s[0][0] for s in filtration if len(s[0]) == 1]\n",
    "    edges = [s[0] for s in filtration if len(s[0]) == 2]\n",
    "    edge_attrs = {s[0]: s[1] for s in filtration if len(s[0]) == 2}\n",
    "    edge_weights = list(edge_attrs.values())\n",
    "    \n",
    "    g = nx.Graph()\n",
    "    g.add_nodes_from(vertices)\n",
    "    g.add_edges_from(edges)\n",
    "    nx.set_edge_attributes(g, edge_attrs, 'dist')\n",
    "\n",
    "    return g"
   ]
  },
  {
   "cell_type": "markdown",
   "metadata": {},
   "source": [
    "Actually construct the graph. We keep track of the computation time."
   ]
  },
  {
   "cell_type": "code",
   "execution_count": null,
   "metadata": {},
   "outputs": [],
   "source": [
    "start = time.time()\n",
    "c = Cover(max_dim=1)\n",
    "filtration = c.build(slimer_movies_map) # Change this to slim_movies_map to use larger sample.\n",
    "\n",
    "vertices = [s for s in filtration if len(s[0]) == 1]\n",
    "edges = [s for s in filtration if len(s[0]) == 2]\n",
    "\n",
    "# Make sure we have vertices and edges and no triangles\n",
    "assert len(filtration) == len(vertices) + len(edges)\n",
    "assert len(edges) > 0\n",
    "g = build_graph(filtration)\n",
    "end = time.time()\n",
    "print(end-start)"
   ]
  },
  {
   "cell_type": "code",
   "execution_count": null,
   "metadata": {},
   "outputs": [],
   "source": [
    "#Once a graph is generated, it can be saved and loaded through nx.write_gpickle and nx.read_gpickle. \n",
    "#nx.write_gpickle(g,'7000_sample_graph')"
   ]
  },
  {
   "cell_type": "markdown",
   "metadata": {},
   "source": [
    "# Find Stable Paths\n",
    "\n",
    "We find the stable paths between two movies and plot the Pareto Frontier."
   ]
  },
  {
   "cell_type": "code",
   "execution_count": 33,
   "metadata": {},
   "outputs": [],
   "source": [
    "def plot_pareto2(most_stable, all_stable_paths, save=False):\n",
    "    unoptimal_paths = np.array([(n, s[1]) for n, ps in all_stable_paths.items() for s in ps])\n",
    "    optimal_paths = np.array([(n,ps[1]) for n, ps in most_stable.items()])\n",
    "\n",
    "    ax = plt.figure(figsize=(20,10)).gca()  \n",
    "    ax.xaxis.set_major_locator(MaxNLocator(integer=True)) \n",
    "    plt.subplot(111)\n",
    "    \n",
    "    matplotlib.rc('xtick', labelsize=20) \n",
    "    matplotlib.rc('ytick', labelsize=20) \n",
    "\n",
    "    cmap = plt.get_cmap('tab10')\n",
    "    plt.scatter(unoptimal_paths[:,0], unoptimal_paths[:,1], color=cmap(1), label='Nonoptimal paths')\n",
    "    plt.scatter(optimal_paths[:,0], optimal_paths[:,1], label='Optimal paths')\n",
    "    plt.plot(optimal_paths[:,0], optimal_paths[:,1], label='Pareto frontier')\n",
    "\n",
    "\n",
    "    plt.xlabel(\"Length of path\")\n",
    "    plt.ylabel(\"Instability of path\")\n",
    "\n",
    "    plt.legend()\n",
    "    ticks = range(int(min(optimal_paths[:,0])), int(max(optimal_paths[:,0])) + 1)\n",
    "    plt.xticks(ticks)\n",
    "    if save!=False:\n",
    "        plt.savefig(save,)"
   ]
  },
  {
   "cell_type": "code",
   "execution_count": 34,
   "metadata": {},
   "outputs": [],
   "source": [
    "from matplotlib.ticker import MaxNLocator\n",
    "import networkx as nx\n",
    "from matplotlib.collections import LineCollection\n",
    "\n",
    "def movie_names_in_path(ms):\n",
    "    movies_in_path = ms[0]\n",
    "    pms = [movie_info.loc[movie_info.movieId == m].title.values[0] for m in movies_in_path]\n",
    "    return pms\n",
    "\n",
    "#Set save=True when calling to save output as files\n",
    "def paths_demo(g, source, terminal,save=False):\n",
    "    most_stable, all_stable_paths = paths.most_stable_paths(g, source, terminal)\n",
    "    plot_pareto2(most_stable, all_stable_paths, save=False)\n",
    "    print(str(source))\n",
    "    \n",
    "    for k, p in most_stable.items():\n",
    "        print(p)\n",
    "        print(k, \":\\n\\t\", \"\\n\\t\".join(movie_names_in_path(p)))\n",
    "        if save==True:\n",
    "            with open('Output/'+str(source)+'_'+str(terminal)+'_samples.txt', 'a+') as f:\n",
    "                f.write(str(p))\n",
    "                f.write(str(k)+\":\\n\\t\"+\"\\n\\t\")\n",
    "                for movie in movie_names_in_path(p):\n",
    "                    f.write(str(movie)+\":\\n\\t\"+\"\\n\\t\")\n",
    "        "
   ]
  },
  {
   "cell_type": "markdown",
   "metadata": {},
   "source": [
    "### Mulan $\\to$ Moulin Rouge"
   ]
  },
  {
   "cell_type": "code",
   "execution_count": 37,
   "metadata": {},
   "outputs": [
    {
     "name": "stdout",
     "output_type": "stream",
     "text": [
      "1907\n",
      "([1907, 4308], 0.8843980133584518)\n",
      "2 :\n",
      "\t Mulan (1998)\n",
      "\tMoulin Rouge (2001)\n"
     ]
    },
    {
     "data": {
      "image/png": "[encoded data removed]",
      "text/plain": [
       "<Figure size 2000x1000 with 1 Axes>"
      ]
     },
     "metadata": {},
     "output_type": "display_data"
    }
   ],
   "source": [
    "paths_demo(g, mulan, moulin_rouge)"
   ]
  },
  {
   "cell_type": "markdown",
   "metadata": {},
   "source": [
    "### Texas Chainsaw Massacre $\\to$ Mulan"
   ]
  },
  {
   "cell_type": "code",
   "execution_count": 40,
   "metadata": {},
   "outputs": [
    {
     "name": "stdout",
     "output_type": "stream",
     "text": [
      "6880\n",
      "([6880, 1907], 0.9853811347024016)\n",
      "2 :\n",
      "\t Texas Chainsaw Massacre, The (2003)\n",
      "\tMulan (1998)\n",
      "([6880, 53996, 1907], 0.9670359362334504)\n",
      "3 :\n",
      "\t Texas Chainsaw Massacre, The (2003)\n",
      "\tTransformers (2007)\n",
      "\tMulan (1998)\n",
      "([6880, 4388, 53996, 1907], 0.9590760733115742)\n",
      "4 :\n",
      "\t Texas Chainsaw Massacre, The (2003)\n",
      "\tScary Movie 2 (2001)\n",
      "\tTransformers (2007)\n",
      "\tMulan (1998)\n",
      "([6880, 4388, 3986, 1127, 1907], 0.9583858764186634)\n",
      "5 :\n",
      "\t Texas Chainsaw Massacre, The (2003)\n",
      "\tScary Movie 2 (2001)\n",
      "\t6th Day, The (2000)\n",
      "\tAbyss, The (1989)\n",
      "\tMulan (1998)\n"
     ]
    },
    {
     "data": {
      "image/png": "[encoded data removed]",
      "text/plain": [
       "<Figure size 2000x1000 with 1 Axes>"
      ]
     },
     "metadata": {},
     "output_type": "display_data"
    }
   ],
   "source": [
    "paths_demo(g, chainsaw, mulan)"
   ]
  },
  {
   "cell_type": "code",
   "execution_count": null,
   "metadata": {},
   "outputs": [],
   "source": []
  }
 ],
 "metadata": {
  "kernelspec": {
   "display_name": "Python 3 (ipykernel)",
   "language": "python",
   "name": "python3"
  },
  "language_info": {
   "codemirror_mode": {
    "name": "ipython",
    "version": 3
   },
   "file_extension": ".py",
   "mimetype": "text/x-python",
   "name": "python",
   "nbconvert_exporter": "python",
   "pygments_lexer": "ipython3",
   "version": "3.12.8"
  }
 },
 "nbformat": 4,
 "nbformat_minor": 4
}
